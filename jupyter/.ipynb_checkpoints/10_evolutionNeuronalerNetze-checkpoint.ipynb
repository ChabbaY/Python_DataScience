{
 "cells": [
  {
   "cell_type": "markdown",
   "id": "00c6fd32",
   "metadata": {},
   "source": [
    "# Die Evolution der neuronalen Netze #"
   ]
  },
  {
   "cell_type": "markdown",
   "id": "75986f61",
   "metadata": {},
   "source": [
    "## Hopfield Netz ##"
   ]
  },
  {
   "cell_type": "code",
   "execution_count": 1,
   "id": "04dd5591",
   "metadata": {},
   "outputs": [
    {
     "name": "stdout",
     "output_type": "stream",
     "text": [
      "[[ 1  1  1 -1  1 -1 -1  1 -1]\n",
      " [ 1  1  1 -1  1 -1 -1  1 -1]\n",
      " [ 1  1  1 -1  1 -1 -1  1 -1]\n",
      " [-1 -1 -1  1 -1  1  1 -1  1]\n",
      " [ 1  1  1 -1  1 -1 -1  1 -1]\n",
      " [-1 -1 -1  1 -1  1  1 -1  1]\n",
      " [-1 -1 -1  1 -1  1  1 -1  1]\n",
      " [ 1  1  1 -1  1 -1 -1  1 -1]\n",
      " [-1 -1 -1  1 -1  1  1 -1  1]]\n"
     ]
    }
   ],
   "source": [
    "import numpy as np\n",
    "# T\n",
    "xT = np.matrix([+1, +1, +1, -1, +1, -1, -1, +1, -1])\n",
    "WT = np.matmul(xT.T, xT)\n",
    "print(WT)"
   ]
  },
  {
   "cell_type": "code",
   "execution_count": 2,
   "id": "a3df0c4b",
   "metadata": {},
   "outputs": [
    {
     "name": "stdout",
     "output_type": "stream",
     "text": [
      "[[ 1 -1  1  1 -1  1  1  1  1]\n",
      " [-1  1 -1 -1  1 -1 -1 -1 -1]\n",
      " [ 1 -1  1  1 -1  1  1  1  1]\n",
      " [ 1 -1  1  1 -1  1  1  1  1]\n",
      " [-1  1 -1 -1  1 -1 -1 -1 -1]\n",
      " [ 1 -1  1  1 -1  1  1  1  1]\n",
      " [ 1 -1  1  1 -1  1  1  1  1]\n",
      " [ 1 -1  1  1 -1  1  1  1  1]\n",
      " [ 1 -1  1  1 -1  1  1  1  1]]\n"
     ]
    }
   ],
   "source": [
    "# U\n",
    "xU = np.matrix([+1, -1, +1, +1, -1, +1, +1, +1, +1])\n",
    "WU = np.matmul(xU.T, xU)\n",
    "print(WU)"
   ]
  },
  {
   "cell_type": "code",
   "execution_count": 3,
   "id": "b893b374",
   "metadata": {
    "scrolled": false
   },
   "outputs": [
    {
     "name": "stdout",
     "output_type": "stream",
     "text": [
      "[[ 2  0  2  0  0  0  0  2  0]\n",
      " [ 0  2  0 -2  2 -2 -2  0 -2]\n",
      " [ 2  0  2  0  0  0  0  2  0]\n",
      " [ 0 -2  0  2 -2  2  2  0  2]\n",
      " [ 0  2  0 -2  2 -2 -2  0 -2]\n",
      " [ 0 -2  0  2 -2  2  2  0  2]\n",
      " [ 0 -2  0  2 -2  2  2  0  2]\n",
      " [ 2  0  2  0  0  0  0  2  0]\n",
      " [ 0 -2  0  2 -2  2  2  0  2]]\n"
     ]
    }
   ],
   "source": [
    "# T + U\n",
    "W = WT + WU\n",
    "print(W)"
   ]
  },
  {
   "cell_type": "code",
   "execution_count": 8,
   "id": "535e84be",
   "metadata": {
    "scrolled": false
   },
   "outputs": [
    {
     "name": "stdout",
     "output_type": "stream",
     "text": [
      "T - Muster\n"
     ]
    },
    {
     "data": {
      "image/png": "[encoded data removed]",
      "text/plain": [
       "<Figure size 432x288 with 1 Axes>"
      ]
     },
     "metadata": {
      "needs_background": "light"
     },
     "output_type": "display_data"
    },
    {
     "name": "stdout",
     "output_type": "stream",
     "text": [
      "T - Matrix minus Einheitsmatrix\n",
      "[[ 0.  1.  1. -1.  1. -1. -1.  1. -1.]\n",
      " [ 1.  0.  1. -1.  1. -1. -1.  1. -1.]\n",
      " [ 1.  1.  0. -1.  1. -1. -1.  1. -1.]\n",
      " [-1. -1. -1.  0. -1.  1.  1. -1.  1.]\n",
      " [ 1.  1.  1. -1.  0. -1. -1.  1. -1.]\n",
      " [-1. -1. -1.  1. -1.  0.  1. -1.  1.]\n",
      " [-1. -1. -1.  1. -1.  1.  0. -1.  1.]\n",
      " [ 1.  1.  1. -1.  1. -1. -1.  0. -1.]\n",
      " [-1. -1. -1.  1. -1.  1.  1. -1.  0.]]\n",
      "U - Muster\n"
     ]
    },
    {
     "data": {
      "image/png": "[encoded data removed]",
      "text/plain": [
       "<Figure size 432x288 with 1 Axes>"
      ]
     },
     "metadata": {
      "needs_background": "light"
     },
     "output_type": "display_data"
    },
    {
     "name": "stdout",
     "output_type": "stream",
     "text": [
      "U - Matrix minus Einheitsmatrix\n",
      "[[ 0. -1.  1.  1. -1.  1.  1.  1.  1.]\n",
      " [-1.  0. -1. -1.  1. -1. -1. -1. -1.]\n",
      " [ 1. -1.  0.  1. -1.  1.  1.  1.  1.]\n",
      " [ 1. -1.  1.  0. -1.  1.  1.  1.  1.]\n",
      " [-1.  1. -1. -1.  0. -1. -1. -1. -1.]\n",
      " [ 1. -1.  1.  1. -1.  0.  1.  1.  1.]\n",
      " [ 1. -1.  1.  1. -1.  1.  0.  1.  1.]\n",
      " [ 1. -1.  1.  1. -1.  1.  1.  0.  1.]\n",
      " [ 1. -1.  1.  1. -1.  1.  1.  1.  0.]]\n",
      "T + U - Matrix\n",
      "[[ 0.  0.  2.  0.  0.  0.  0.  2.  0.]\n",
      " [ 0.  0.  0. -2.  2. -2. -2.  0. -2.]\n",
      " [ 2.  0.  0.  0.  0.  0.  0.  2.  0.]\n",
      " [ 0. -2.  0.  0. -2.  2.  2.  0.  2.]\n",
      " [ 0.  2.  0. -2.  0. -2. -2.  0. -2.]\n",
      " [ 0. -2.  0.  2. -2.  0.  2.  0.  2.]\n",
      " [ 0. -2.  0.  2. -2.  2.  0.  0.  2.]\n",
      " [ 2.  0.  2.  0.  0.  0.  0.  0.  0.]\n",
      " [ 0. -2.  0.  2. -2.  2.  2.  0.  0.]]\n",
      "Inputvektor\n"
     ]
    },
    {
     "data": {
      "image/png": "[encoded data removed]",
      "text/plain": [
       "<Figure size 432x288 with 1 Axes>"
      ]
     },
     "metadata": {
      "needs_background": "light"
     },
     "output_type": "display_data"
    },
    {
     "name": "stdout",
     "output_type": "stream",
     "text": [
      "Schritt 0\n"
     ]
    },
    {
     "data": {
      "image/png": "[encoded data removed]",
      "text/plain": [
       "<Figure size 432x288 with 1 Axes>"
      ]
     },
     "metadata": {
      "needs_background": "light"
     },
     "output_type": "display_data"
    },
    {
     "name": "stdout",
     "output_type": "stream",
     "text": [
      "Schritt 1\n"
     ]
    },
    {
     "data": {
      "image/png": "[encoded data removed]",
      "text/plain": [
       "<Figure size 432x288 with 1 Axes>"
      ]
     },
     "metadata": {
      "needs_background": "light"
     },
     "output_type": "display_data"
    },
    {
     "name": "stdout",
     "output_type": "stream",
     "text": [
      "Schritt 2\n"
     ]
    },
    {
     "data": {
      "image/png": "[encoded data removed]",
      "text/plain": [
       "<Figure size 432x288 with 1 Axes>"
      ]
     },
     "metadata": {
      "needs_background": "light"
     },
     "output_type": "display_data"
    },
    {
     "name": "stdout",
     "output_type": "stream",
     "text": [
      "Schritt 3\n"
     ]
    },
    {
     "data": {
      "image/png": "[encoded data removed]",
      "text/plain": [
       "<Figure size 432x288 with 1 Axes>"
      ]
     },
     "metadata": {
      "needs_background": "light"
     },
     "output_type": "display_data"
    },
    {
     "name": "stdout",
     "output_type": "stream",
     "text": [
      "Schritt 4\n"
     ]
    },
    {
     "data": {
      "image/png": "[encoded data removed]",
      "text/plain": [
       "<Figure size 432x288 with 1 Axes>"
      ]
     },
     "metadata": {
      "needs_background": "light"
     },
     "output_type": "display_data"
    }
   ],
   "source": [
    "import matplotlib.pyplot as plt\n",
    "%matplotlib inline\n",
    "\n",
    "# Zeilendimension der Matrix\n",
    "rowDim = 3\n",
    "# eine Matrix in einer Zeile\n",
    "lineDim = rowDim * rowDim\n",
    "\n",
    "# Buchstabe zeichnen\n",
    "def drawLetter(letter):\n",
    "    global rowDim\n",
    "    fig = plt.figure(111)\n",
    "    ax1 = fig.add_subplot(111)\n",
    "    ax1.imshow(letter.reshape(rowDim,rowDim), cmap = plt.cm.binary, interpolation = 'nearest')\n",
    "    plt.show()\n",
    "\n",
    "# Lambda für Stufenfunktion\n",
    "f_step = lambda w: 1 if w >= 0 else -1\n",
    "# Lambda vektorisieren\n",
    "vectorized_step = np.vectorize(f_step)\n",
    "\n",
    "# Lernen\n",
    "# Identity\n",
    "Wi = np.identity(lineDim)\n",
    "\n",
    "# T\n",
    "xT = np.matrix([+1, +1, +1, -1, +1, -1, -1, +1, -1])\n",
    "WT = np.matmul(xT.T, xT) - Wi\n",
    "print('T - Muster')\n",
    "drawLetter(xT)\n",
    "print('T - Matrix minus Einheitsmatrix')\n",
    "print(WT)\n",
    "\n",
    "# U\n",
    "xU = np.matrix([+1, -1, +1, +1, -1, +1, +1, +1, +1])\n",
    "WU = np.matmul(xU.T, xU) - Wi\n",
    "print('U - Muster')\n",
    "drawLetter(xU)\n",
    "print('U - Matrix minus Einheitsmatrix')\n",
    "print(WU)\n",
    "\n",
    "# Summe der Muster Matrizen\n",
    "W = WT + WU\n",
    "print('T + U - Matrix')\n",
    "print(W)\n",
    "\n",
    "## Auswertung\n",
    "x0 = np.matrix([-1, -1, -1, +1, -1, +1, +1, +1, +1])\n",
    "print('Inputvektor')\n",
    "drawLetter(x0)\n",
    "vt = x0.T\n",
    "\n",
    "# Attraktor suchen\n",
    "for t in range(2):\n",
    "    vt1 = np.matmul(W, vt)\n",
    "    print('Schritt {}'.format(t))\n",
    "    Wt1 = vt1.reshape(rowDim, rowDim)\n",
    "    drawLetter(vt1)\n",
    "    vt = vt1"
   ]
  },
  {
   "cell_type": "code",
   "execution_count": null,
   "id": "1da2be5e",
   "metadata": {},
   "outputs": [],
   "source": []
  }
 ],
 "metadata": {
  "kernelspec": {
   "display_name": "Python 3 (ipykernel)",
   "language": "python",
   "name": "python3"
  },
  "language_info": {
   "codemirror_mode": {
    "name": "ipython",
    "version": 3
   },
   "file_extension": ".py",
   "mimetype": "text/x-python",
   "name": "python",
   "nbconvert_exporter": "python",
   "pygments_lexer": "ipython3",
   "version": "3.9.12"
  }
 },
 "nbformat": 4,
 "nbformat_minor": 5
}
