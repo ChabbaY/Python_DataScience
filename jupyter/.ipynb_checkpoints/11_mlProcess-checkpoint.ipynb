{
 "cells": [
  {
   "cell_type": "markdown",
   "id": "95c0b817",
   "metadata": {},
   "source": [
    "# Der Machine-Learning-Prozess #"
   ]
  },
  {
   "cell_type": "markdown",
   "id": "14e02e84",
   "metadata": {},
   "source": [
    "## Feature Kodierung"
   ]
  },
  {
   "cell_type": "code",
   "execution_count": 2,
   "id": "aef5e9d2",
   "metadata": {},
   "outputs": [
    {
     "data": {
      "text/plain": [
       "array([2, 5, 1, 0, 5, 3, 4, 2, 5, 5])"
      ]
     },
     "execution_count": 2,
     "metadata": {},
     "output_type": "execute_result"
    }
   ],
   "source": [
    "# scikit-learn und pandas für Label Encoding\n",
    "from sklearn import preprocessing\n",
    "import pandas as pd\n",
    "\n",
    "pupil_list = {'schueler' : [1, 2, 3, 4, 5, 6, 7, 8, 9, 10],\n",
    "             'Note' : [\"sehr gut\", \"gut\", \"gut\", \"befriedigend\", \"genügend\",\n",
    "                       \"nicht genügend\", \"sehr gut\", \"genügend\", \"gut\", \"gut\"],\n",
    "             'Haarfarbe' : [\"Braun\", \"Schwarz\", \"Blond\", \"Blau\", \"Schwarz\", \"Brünett\",\n",
    "                           \"Rot\", \"Braun\", \"Schwarz\", \"Schwarz\"]}\n",
    "df = pd.DataFrame(pupil_list, columns = ['schueler', 'Note', 'Haarfarbe'])\n",
    "lab_enc = preprocessing.LabelEncoder()\n",
    "lab_enc.fit(df['Haarfarbe'])\n",
    "lab_enc.transform(df['Haarfarbe'])"
   ]
  },
  {
   "cell_type": "code",
   "execution_count": 3,
   "id": "30d121eb",
   "metadata": {},
   "outputs": [
    {
     "data": {
      "text/plain": [
       "array([[0., 0., 1., 0., 0., 0.],\n",
       "       [0., 0., 0., 0., 0., 1.],\n",
       "       [0., 1., 0., 0., 0., 0.],\n",
       "       [1., 0., 0., 0., 0., 0.],\n",
       "       [0., 0., 0., 0., 0., 1.],\n",
       "       [0., 0., 0., 1., 0., 0.],\n",
       "       [0., 0., 0., 0., 1., 0.],\n",
       "       [0., 0., 1., 0., 0., 0.],\n",
       "       [0., 0., 0., 0., 0., 1.],\n",
       "       [0., 0., 0., 0., 0., 1.]])"
      ]
     },
     "execution_count": 3,
     "metadata": {},
     "output_type": "execute_result"
    }
   ],
   "source": [
    "one_enc = preprocessing.OneHotEncoder(sparse = False)\n",
    "help_enc = preprocessing.LabelEncoder()\n",
    "# Umwandlung Haarfarbe -> Ganzzahl\n",
    "help_col = help_enc.fit_transform(df['Haarfarbe'])\n",
    "one_enc.fit_transform(help_col.reshape(len(df['Haarfarbe']), -1))"
   ]
  },
  {
   "cell_type": "code",
   "execution_count": 5,
   "id": "691a6f74",
   "metadata": {},
   "outputs": [
    {
     "name": "stderr",
     "output_type": "stream",
     "text": [
      "C:\\Users\\linus_05m2yty\\anaconda3\\envs\\Env_tensorflow\\lib\\site-packages\\sklearn\\utils\\deprecation.py:87: FutureWarning: Function load_boston is deprecated; `load_boston` is deprecated in 1.0 and will be removed in 1.2.\n",
      "\n",
      "    The Boston housing prices dataset has an ethical problem. You can refer to\n",
      "    the documentation of this function for further details.\n",
      "\n",
      "    The scikit-learn maintainers therefore strongly discourage the use of this\n",
      "    dataset unless the purpose of the code is to study and educate about\n",
      "    ethical issues in data science and machine learning.\n",
      "\n",
      "    In this special case, you can fetch the dataset from the original\n",
      "    source::\n",
      "\n",
      "        import pandas as pd\n",
      "        import numpy as np\n",
      "\n",
      "        data_url = \"http://lib.stat.cmu.edu/datasets/boston\"\n",
      "        raw_df = pd.read_csv(data_url, sep=\"\\s+\", skiprows=22, header=None)\n",
      "        data = np.hstack([raw_df.values[::2, :], raw_df.values[1::2, :2]])\n",
      "        target = raw_df.values[1::2, 2]\n",
      "\n",
      "    Alternative datasets include the California housing dataset (i.e.\n",
      "    :func:`~sklearn.datasets.fetch_california_housing`) and the Ames housing\n",
      "    dataset. You can load the datasets as follows::\n",
      "\n",
      "        from sklearn.datasets import fetch_california_housing\n",
      "        housing = fetch_california_housing()\n",
      "\n",
      "    for the California housing dataset and::\n",
      "\n",
      "        from sklearn.datasets import fetch_openml\n",
      "        housing = fetch_openml(name=\"house_prices\", as_frame=True)\n",
      "\n",
      "    for the Ames housing dataset.\n",
      "  warnings.warn(msg, category=FutureWarning)\n"
     ]
    },
    {
     "data": {
      "text/html": [
       "<div>\n",
       "<style scoped>\n",
       "    .dataframe tbody tr th:only-of-type {\n",
       "        vertical-align: middle;\n",
       "    }\n",
       "\n",
       "    .dataframe tbody tr th {\n",
       "        vertical-align: top;\n",
       "    }\n",
       "\n",
       "    .dataframe thead th {\n",
       "        text-align: right;\n",
       "    }\n",
       "</style>\n",
       "<table border=\"1\" class=\"dataframe\">\n",
       "  <thead>\n",
       "    <tr style=\"text-align: right;\">\n",
       "      <th></th>\n",
       "      <th>CRIM</th>\n",
       "      <th>ZN</th>\n",
       "      <th>INDUS</th>\n",
       "      <th>CHAS</th>\n",
       "      <th>NOX</th>\n",
       "      <th>RM</th>\n",
       "      <th>AGE</th>\n",
       "      <th>DIS</th>\n",
       "      <th>RAD</th>\n",
       "      <th>TAX</th>\n",
       "      <th>PTRATIO</th>\n",
       "      <th>B</th>\n",
       "      <th>LSTAT</th>\n",
       "    </tr>\n",
       "  </thead>\n",
       "  <tbody>\n",
       "    <tr>\n",
       "      <th>0</th>\n",
       "      <td>0.00632</td>\n",
       "      <td>18.0</td>\n",
       "      <td>2.31</td>\n",
       "      <td>0.0</td>\n",
       "      <td>0.538</td>\n",
       "      <td>6.575</td>\n",
       "      <td>65.2</td>\n",
       "      <td>4.0900</td>\n",
       "      <td>1.0</td>\n",
       "      <td>296.0</td>\n",
       "      <td>15.3</td>\n",
       "      <td>396.90</td>\n",
       "      <td>4.98</td>\n",
       "    </tr>\n",
       "    <tr>\n",
       "      <th>1</th>\n",
       "      <td>0.02731</td>\n",
       "      <td>0.0</td>\n",
       "      <td>7.07</td>\n",
       "      <td>0.0</td>\n",
       "      <td>0.469</td>\n",
       "      <td>6.421</td>\n",
       "      <td>78.9</td>\n",
       "      <td>4.9671</td>\n",
       "      <td>2.0</td>\n",
       "      <td>242.0</td>\n",
       "      <td>17.8</td>\n",
       "      <td>396.90</td>\n",
       "      <td>9.14</td>\n",
       "    </tr>\n",
       "    <tr>\n",
       "      <th>2</th>\n",
       "      <td>0.02729</td>\n",
       "      <td>0.0</td>\n",
       "      <td>7.07</td>\n",
       "      <td>0.0</td>\n",
       "      <td>0.469</td>\n",
       "      <td>7.185</td>\n",
       "      <td>61.1</td>\n",
       "      <td>4.9671</td>\n",
       "      <td>2.0</td>\n",
       "      <td>242.0</td>\n",
       "      <td>17.8</td>\n",
       "      <td>392.83</td>\n",
       "      <td>4.03</td>\n",
       "    </tr>\n",
       "  </tbody>\n",
       "</table>\n",
       "</div>"
      ],
      "text/plain": [
       "      CRIM    ZN  INDUS  CHAS    NOX     RM   AGE     DIS  RAD    TAX  \\\n",
       "0  0.00632  18.0   2.31   0.0  0.538  6.575  65.2  4.0900  1.0  296.0   \n",
       "1  0.02731   0.0   7.07   0.0  0.469  6.421  78.9  4.9671  2.0  242.0   \n",
       "2  0.02729   0.0   7.07   0.0  0.469  7.185  61.1  4.9671  2.0  242.0   \n",
       "\n",
       "   PTRATIO       B  LSTAT  \n",
       "0     15.3  396.90   4.98  \n",
       "1     17.8  396.90   9.14  \n",
       "2     17.8  392.83   4.03  "
      ]
     },
     "execution_count": 5,
     "metadata": {},
     "output_type": "execute_result"
    }
   ],
   "source": [
    "import category_encoders as ce\n",
    "import pandas as pd\n",
    "from sklearn.datasets import load_boston\n",
    "\n",
    "# Vorbereitung der Daten\n",
    "# Hauspreise im Gebiet Boston\n",
    "bucket = load_boston()\n",
    "# print(bucket.DESCR) für ausführliche Beschreibung\n",
    "\n",
    "y = bucket.target\n",
    "X = pd.DataFrame(bucket.data, columns = bucket.feature_names)\n",
    "\n",
    "X.head(3)"
   ]
  },
  {
   "cell_type": "code",
   "execution_count": 6,
   "id": "d9e68ff9",
   "metadata": {},
   "outputs": [
    {
     "name": "stderr",
     "output_type": "stream",
     "text": [
      "C:\\Users\\linus_05m2yty\\anaconda3\\envs\\Env_tensorflow\\lib\\site-packages\\category_encoders\\utils.py:21: FutureWarning: is_categorical is deprecated and will be removed in a future version. Use is_categorical_dtype instead.\n",
      "  elif pd.api.types.is_categorical(cols):\n"
     ]
    },
    {
     "data": {
      "text/html": [
       "<div>\n",
       "<style scoped>\n",
       "    .dataframe tbody tr th:only-of-type {\n",
       "        vertical-align: middle;\n",
       "    }\n",
       "\n",
       "    .dataframe tbody tr th {\n",
       "        vertical-align: top;\n",
       "    }\n",
       "\n",
       "    .dataframe thead th {\n",
       "        text-align: right;\n",
       "    }\n",
       "</style>\n",
       "<table border=\"1\" class=\"dataframe\">\n",
       "  <thead>\n",
       "    <tr style=\"text-align: right;\">\n",
       "      <th></th>\n",
       "      <th>CRIM</th>\n",
       "      <th>ZN</th>\n",
       "      <th>INDUS</th>\n",
       "      <th>CHAS_0</th>\n",
       "      <th>CHAS_1</th>\n",
       "      <th>NOX</th>\n",
       "      <th>RM</th>\n",
       "      <th>AGE</th>\n",
       "      <th>DIS</th>\n",
       "      <th>RAD_0</th>\n",
       "      <th>RAD_1</th>\n",
       "      <th>RAD_2</th>\n",
       "      <th>RAD_3</th>\n",
       "      <th>RAD_4</th>\n",
       "      <th>TAX</th>\n",
       "      <th>PTRATIO</th>\n",
       "      <th>B</th>\n",
       "      <th>LSTAT</th>\n",
       "    </tr>\n",
       "  </thead>\n",
       "  <tbody>\n",
       "    <tr>\n",
       "      <th>0</th>\n",
       "      <td>0.00632</td>\n",
       "      <td>18.0</td>\n",
       "      <td>2.31</td>\n",
       "      <td>0</td>\n",
       "      <td>1</td>\n",
       "      <td>0.538</td>\n",
       "      <td>6.575</td>\n",
       "      <td>65.2</td>\n",
       "      <td>4.0900</td>\n",
       "      <td>0</td>\n",
       "      <td>0</td>\n",
       "      <td>0</td>\n",
       "      <td>0</td>\n",
       "      <td>1</td>\n",
       "      <td>296.0</td>\n",
       "      <td>15.3</td>\n",
       "      <td>396.90</td>\n",
       "      <td>4.98</td>\n",
       "    </tr>\n",
       "    <tr>\n",
       "      <th>1</th>\n",
       "      <td>0.02731</td>\n",
       "      <td>0.0</td>\n",
       "      <td>7.07</td>\n",
       "      <td>0</td>\n",
       "      <td>1</td>\n",
       "      <td>0.469</td>\n",
       "      <td>6.421</td>\n",
       "      <td>78.9</td>\n",
       "      <td>4.9671</td>\n",
       "      <td>0</td>\n",
       "      <td>0</td>\n",
       "      <td>0</td>\n",
       "      <td>1</td>\n",
       "      <td>0</td>\n",
       "      <td>242.0</td>\n",
       "      <td>17.8</td>\n",
       "      <td>396.90</td>\n",
       "      <td>9.14</td>\n",
       "    </tr>\n",
       "    <tr>\n",
       "      <th>2</th>\n",
       "      <td>0.02729</td>\n",
       "      <td>0.0</td>\n",
       "      <td>7.07</td>\n",
       "      <td>0</td>\n",
       "      <td>1</td>\n",
       "      <td>0.469</td>\n",
       "      <td>7.185</td>\n",
       "      <td>61.1</td>\n",
       "      <td>4.9671</td>\n",
       "      <td>0</td>\n",
       "      <td>0</td>\n",
       "      <td>0</td>\n",
       "      <td>1</td>\n",
       "      <td>0</td>\n",
       "      <td>242.0</td>\n",
       "      <td>17.8</td>\n",
       "      <td>392.83</td>\n",
       "      <td>4.03</td>\n",
       "    </tr>\n",
       "  </tbody>\n",
       "</table>\n",
       "</div>"
      ],
      "text/plain": [
       "      CRIM    ZN  INDUS  CHAS_0  CHAS_1    NOX     RM   AGE     DIS  RAD_0  \\\n",
       "0  0.00632  18.0   2.31       0       1  0.538  6.575  65.2  4.0900      0   \n",
       "1  0.02731   0.0   7.07       0       1  0.469  6.421  78.9  4.9671      0   \n",
       "2  0.02729   0.0   7.07       0       1  0.469  7.185  61.1  4.9671      0   \n",
       "\n",
       "   RAD_1  RAD_2  RAD_3  RAD_4    TAX  PTRATIO       B  LSTAT  \n",
       "0      0      0      0      1  296.0     15.3  396.90   4.98  \n",
       "1      0      0      1      0  242.0     17.8  396.90   9.14  \n",
       "2      0      0      1      0  242.0     17.8  392.83   4.03  "
      ]
     },
     "execution_count": 6,
     "metadata": {},
     "output_type": "execute_result"
    }
   ],
   "source": [
    "# Verwendung von binary encoding für zwei kategorische Features\n",
    "encoded = ce.BinaryEncoder(cols = ['CHAS', 'RAD']).fit(X, y)\n",
    "\n",
    "# Transformation\n",
    "x_trans = encoded.transform(X)\n",
    "\n",
    "x_trans.head(3)"
   ]
  },
  {
   "cell_type": "markdown",
   "id": "eeca24f7",
   "metadata": {},
   "source": [
    "## Numerische Features"
   ]
  },
  {
   "cell_type": "code",
   "execution_count": 7,
   "id": "f963ace7",
   "metadata": {},
   "outputs": [
    {
     "data": {
      "image/png": "[encoded data removed]",
      "text/plain": [
       "<Figure size 432x288 with 1 Axes>"
      ]
     },
     "metadata": {
      "needs_background": "light"
     },
     "output_type": "display_data"
    }
   ],
   "source": [
    "import numpy as np\n",
    "import matplotlib.pyplot as plt\n",
    "%matplotlib inline\n",
    "\n",
    "# 150 zufällige Alterswerte 0-99\n",
    "k_counter = np.random.randint(0, 100, 150)\n",
    "\n",
    "# Zuordnung zu Bins im 10er-Abstand: 0-9, 10-19, ...\n",
    "np.floor_divide(k_counter, 10)\n",
    "\n",
    "# Ausgabe\n",
    "plt.hist(k_counter, bins=10)\n",
    "plt.ylabel('Frequenz')\n",
    "plt.xlabel('Altersbereiche')\n",
    "plt.show()"
   ]
  },
  {
   "cell_type": "code",
   "execution_count": 8,
   "id": "0153e972",
   "metadata": {},
   "outputs": [
    {
     "name": "stdout",
     "output_type": "stream",
     "text": [
      "[87 74 27  0 49 23  1 72 80 42]\n"
     ]
    }
   ],
   "source": [
    "# erste 10 Werte\n",
    "print(k_counter[:10])"
   ]
  },
  {
   "cell_type": "code",
   "execution_count": 9,
   "id": "95572d6a",
   "metadata": {},
   "outputs": [
    {
     "data": {
      "text/plain": [
       "[(3803.4, 4815.8], (3803.4, 4815.8], (3803.4, 4815.8], (4815.8, 5606.5], (79.999, 1425.9], ..., (2576.4, 3803.4], (2576.4, 3803.4], (4815.8, 5606.5], (7439.3, 8377.4], (5606.5, 6550.2]]\n",
       "Length: 100\n",
       "Categories (10, interval[float64, right]): [(79.999, 1425.9] < (1425.9, 2576.4] < (2576.4, 3803.4] < (3803.4, 4815.8] ... (6550.2, 7439.3] < (7439.3, 8377.4] < (8377.4, 9042.5] < (9042.5, 9879.0]]"
      ]
     },
     "execution_count": 9,
     "metadata": {},
     "output_type": "execute_result"
    }
   ],
   "source": [
    "import pandas as pd\n",
    "# beliebige Zahlen\n",
    "rand_elems = np.random.randint(0, 10000, 100)\n",
    "\n",
    "# pandas qcut für Perzentil-Grenzen\n",
    "perc_limits = pd.qcut(rand_elems, 10)\n",
    "perc_limits"
   ]
  },
  {
   "cell_type": "code",
   "execution_count": 10,
   "id": "d95817ca",
   "metadata": {},
   "outputs": [
    {
     "data": {
      "image/png": "[encoded data removed]",
      "text/plain": [
       "<Figure size 432x288 with 1 Axes>"
      ]
     },
     "metadata": {
      "needs_background": "light"
     },
     "output_type": "display_data"
    }
   ],
   "source": [
    "import numpy as np\n",
    "\n",
    "# 150 Zahlen mit großen Unterschieden, Simulation von Webzugriffen\n",
    "webaccess = np.random.randint(0, 1000000, 150)\n",
    "\n",
    "# Ausgabe logarithmisches Binning mit 10er-Logarithmus\n",
    "plt.hist(webaccess, bins = np.logspace(np.log10(0.1), np.log10(1000000), 50))\n",
    "plt.gca().set_xscale(\"log\")\n",
    "plt.ylabel('Frequenz')\n",
    "plt.xlabel('Webzugriffe')\n",
    "plt.show()"
   ]
  },
  {
   "cell_type": "code",
   "execution_count": 13,
   "id": "c448e462",
   "metadata": {},
   "outputs": [
    {
     "data": {
      "text/plain": [
       "array([ 1.62855521e+00, -2.09854769e-01, -1.52960907e+00, -3.29648371e-01,\n",
       "       -2.39216012e-02,  1.60628372e+00,  1.51955990e+00, -1.00994105e+00,\n",
       "        1.10585017e+00, -4.31560668e-02,  1.34138801e+00,  1.31945397e+00,\n",
       "       -8.95209150e-01, -1.27517758e-01, -1.15133124e+00, -7.13662790e-01,\n",
       "       -9.13768722e-01, -9.75521480e-01,  1.60695862e+00, -7.22773853e-01,\n",
       "       -2.32467077e-02,  3.51656649e-01, -1.38416951e+00,  1.00056678e+00,\n",
       "        6.12165552e-01,  1.55701650e+00,  1.48851480e+00,  3.03401761e-01,\n",
       "       -1.02715084e+00, -1.25121549e+00, -9.61352090e-02,  5.33203009e-01,\n",
       "        1.31844163e+00, -9.94755946e-01,  7.75152340e-01, -7.43020659e-01,\n",
       "        3.74603029e-01,  1.15714208e+00,  7.89996623e-02,  1.30528121e+00,\n",
       "       -4.04898999e-01, -1.48540354e+00, -2.26727107e-01, -5.68898128e-01,\n",
       "        1.66331223e+00,  1.50268757e+00, -1.14087040e+00,  1.58299990e+00,\n",
       "        1.04645954e+00,  4.56940040e-01, -9.66072971e-01, -1.63219289e+00,\n",
       "        1.59177351e+00, -4.24470912e-01,  6.20264274e-01,  4.04298344e-01,\n",
       "       -1.22084528e+00,  5.67281757e-02, -1.85896049e-01, -1.59912310e+00,\n",
       "        5.66610238e-01,  2.75731127e-01, -3.71491770e-01, -7.30197681e-01,\n",
       "        1.34375014e+00, -6.06354718e-01, -6.06354718e-01,  9.00682536e-01,\n",
       "       -1.28124825e+00, -1.52893418e+00, -6.27279792e-02,  1.32350333e+00,\n",
       "       -1.59034949e+00,  1.45409523e+00, -1.01500275e+00, -1.39294313e+00,\n",
       "       -3.23574329e-01,  1.05657957e-01, -4.13335169e-01, -9.14109543e-02,\n",
       "       -1.54749375e+00,  2.62233256e-01, -7.48082360e-01,  8.57489350e-01,\n",
       "       -5.42577280e-01,  7.94049358e-01, -6.00618123e-01,  9.93142950e-01,\n",
       "        7.27234899e-01, -3.00327621e-04,  1.43148630e+00,  5.03507693e-01,\n",
       "        2.68982191e-01, -1.28023591e+00,  3.08463463e-01, -1.29339633e+00,\n",
       "       -1.48776567e+00, -8.27044903e-01,  9.79982526e-01, -6.43811309e-01])"
      ]
     },
     "execution_count": 13,
     "metadata": {},
     "output_type": "execute_result"
    }
   ],
   "source": [
    "from sklearn.preprocessing import scale, minmax_scale\n",
    "import numpy as np\n",
    "rand_elems = np.random.randint(0, 10000, 100).astype(np.float64)\n",
    "\n",
    "x_minmax_sc = minmax_scale(rand_elems)\n",
    "x_var_sc = scale(rand_elems, with_mean = True, with_std = True)\n",
    "x_var_sc"
   ]
  },
  {
   "cell_type": "markdown",
   "id": "8ca3a716",
   "metadata": {},
   "source": [
    "## Räumliche Features"
   ]
  },
  {
   "cell_type": "code",
   "execution_count": 16,
   "id": "07d43d5c",
   "metadata": {},
   "outputs": [
    {
     "name": "stdout",
     "output_type": "stream",
     "text": [
      "Adresse: Rheinwerk Verlag, 4, Rheinwerkallee, Ramersdorf, Bonn-Beuel, Bonn, Nordrhein-Westfalen, 53227, Deutschland\n",
      "LatLon: 50.7172803 7.1538127\n"
     ]
    }
   ],
   "source": [
    "from geopy.geocoders import Nominatim\n",
    "\n",
    "geolocator = Nominatim(user_agent = \"Meine Anwendung\")\n",
    "\n",
    "lokation = geolocator.geocode(\"Rheinwerkallee 4, 52227 Bonn\")\n",
    "print(\"Adresse:\", lokation.address)\n",
    "print(\"LatLon:\", lokation.latitude, lokation.longitude)"
   ]
  },
  {
   "cell_type": "markdown",
   "id": "1fcbc8aa",
   "metadata": {},
   "source": [
    "## Natural Language Processing"
   ]
  },
  {
   "cell_type": "code",
   "execution_count": 17,
   "id": "f5bcef70",
   "metadata": {},
   "outputs": [
    {
     "name": "stdout",
     "output_type": "stream",
     "text": [
      "showing info https://raw.githubusercontent.com/nltk/nltk_data/gh-pages/index.xml\n"
     ]
    },
    {
     "data": {
      "text/plain": [
       "True"
      ]
     },
     "execution_count": 17,
     "metadata": {},
     "output_type": "execute_result"
    }
   ],
   "source": [
    "import nltk\n",
    "nltk.download()"
   ]
  },
  {
   "cell_type": "code",
   "execution_count": 18,
   "id": "c8e1e64c",
   "metadata": {},
   "outputs": [
    {
     "name": "stdout",
     "output_type": "stream",
     "text": [
      "['Albert', 'hat', 'heute', 'zwar', 'gefrühstückt', ',', 'allerdings', 'hat', 'er', 'schon', 'wieder', 'einen', 'Riesenhunger', '.', 'Möglicherweise', 'ist', 'schon', 'wieder', 'Mittag', '!']\n"
     ]
    }
   ],
   "source": [
    "from nltk.tokenize import word_tokenize\n",
    "myText = \"\"\"Albert hat heute zwar gefrühstückt, allerdings hat er schon\n",
    "    wieder einen Riesenhunger. Möglicherweise ist schon wieder Mittag!\"\"\"\n",
    "tokens = word_tokenize(myText, 'german')\n",
    "print(tokens)"
   ]
  },
  {
   "cell_type": "code",
   "execution_count": 19,
   "id": "a71be46a",
   "metadata": {},
   "outputs": [
    {
     "name": "stdout",
     "output_type": "stream",
     "text": [
      "['albert', 'hat', 'heute', 'zwar', 'gefrühstückt', 'allerdings', 'hat', 'er', 'schon', 'wieder', 'einen', 'riesenhunger', 'möglicherweise', 'ist', 'schon', 'wieder', 'mittag']\n"
     ]
    }
   ],
   "source": [
    "tokens = [w.lower() for w in tokens]\n",
    "word_list = [w for w in tokens if w.isalpha()]\n",
    "print(word_list)"
   ]
  },
  {
   "cell_type": "code",
   "execution_count": 20,
   "id": "9c193b58",
   "metadata": {},
   "outputs": [
    {
     "name": "stdout",
     "output_type": "stream",
     "text": [
      "['einigen', 'ist', 'war', 'ihren', 'doch', 'warst', 'alles', 'bei', 'es', 'keinen', 'unseres', 'dein', 'desselben', 'einer', 'nur', 'dessen', 'noch', 'derer', 'unserem', 'derselbe']\n"
     ]
    }
   ],
   "source": [
    "from random import shuffle\n",
    "from nltk.corpus import stopwords\n",
    "stop_words = stopwords.words('german')\n",
    "shuffle(stop_words)\n",
    "print(stop_words[:20])"
   ]
  },
  {
   "cell_type": "code",
   "execution_count": 21,
   "id": "04aa5026",
   "metadata": {},
   "outputs": [
    {
     "name": "stdout",
     "output_type": "stream",
     "text": [
      "['albert', 'hat', 'heut', 'zwar', 'gefruhstuckt', 'allerding', 'hat', 'er', 'schon', 'wied', 'ein', 'riesenh', 'moglicherweis', 'ist', 'schon', 'wied', 'mittag']\n"
     ]
    }
   ],
   "source": [
    "from nltk.stem.snowball import SnowballStemmer\n",
    "snow = SnowballStemmer(\"german\")\n",
    "stemmed = [snow.stem(w) for w in word_list]\n",
    "print(stemmed)"
   ]
  },
  {
   "cell_type": "code",
   "execution_count": 26,
   "id": "23379d85",
   "metadata": {},
   "outputs": [
    {
     "name": "stdout",
     "output_type": "stream",
     "text": [
      "{'albert': 0, 'hat': 5, 'heute': 6, 'zwar': 13, 'gefrühstückt': 4, 'allerdings': 1, 'er': 3, 'schon': 11, 'wieder': 12, 'einen': 2, 'riesenhunger': 10, 'möglicherweise': 9, 'ist': 7, 'mittag': 8}\n"
     ]
    }
   ],
   "source": [
    "from sklearn.feature_extraction.text import CountVectorizer\n",
    "\n",
    "myText = [\"\"\"Albert hat heute zwar gefrühstückt, allerdings hat er schon\n",
    "    wieder einen Riesenhunger. Möglicherweise ist schon wieder Mittag!\"\"\"]\n",
    "\n",
    "count_vector = CountVectorizer()\n",
    "bow = count_vector.fit_transform(myText)\n",
    "print(count_vector.vocabulary_)"
   ]
  },
  {
   "cell_type": "markdown",
   "id": "59738f6b",
   "metadata": {},
   "source": [
    "## Datenaugmentation für Bilder"
   ]
  },
  {
   "cell_type": "code",
   "execution_count": 27,
   "id": "8a86996a",
   "metadata": {},
   "outputs": [],
   "source": [
    "from tensorflow.keras.preprocessing.image import ImageDataGenerator\n",
    "datagenerator = ImageDataGenerator(\n",
    "    rotation_range = 0.3,\n",
    "    horizontal_flip = True,\n",
    "    width_shift_range = 0.3,\n",
    "    height_shift_range = 0.2,\n",
    "    fill_mode = 'nearest')"
   ]
  },
  {
   "cell_type": "markdown",
   "id": "e2d4ce14",
   "metadata": {},
   "source": [
    "Verwendung in Kapitel 13"
   ]
  },
  {
   "cell_type": "markdown",
   "id": "eb37f60c",
   "metadata": {},
   "source": [
    "## Feature Transformation"
   ]
  },
  {
   "cell_type": "code",
   "execution_count": 28,
   "id": "067498bd",
   "metadata": {},
   "outputs": [],
   "source": [
    "from sklearn.datasets import load_iris\n",
    "iris_daten = load_iris()\n",
    "iris_X, iris_y = iris_daten.data, iris_daten.target"
   ]
  },
  {
   "cell_type": "code",
   "execution_count": 29,
   "id": "3b7c12bc",
   "metadata": {},
   "outputs": [
    {
     "data": {
      "text/plain": [
       "array([[ 0.36138659, -0.08452251,  0.85667061,  0.3582892 ],\n",
       "       [ 0.65658877,  0.73016143, -0.17337266, -0.07548102]])"
      ]
     },
     "execution_count": 29,
     "metadata": {},
     "output_type": "execute_result"
    }
   ],
   "source": [
    "# Principal Component Analysis (PCA)\n",
    "from sklearn.decomposition import PCA\n",
    "iris_pca = PCA(n_components = 2)\n",
    "\n",
    "iris_pca.fit(iris_X)\n",
    "iris_X_pca = iris_pca.transform(iris_X)\n",
    "\n",
    "iris_pca.components_"
   ]
  },
  {
   "cell_type": "code",
   "execution_count": 30,
   "id": "3d9dadb6",
   "metadata": {},
   "outputs": [
    {
     "data": {
      "text/plain": [
       "Text(0, 0.5, 'Sepal-Breite [cm]')"
      ]
     },
     "execution_count": 30,
     "metadata": {},
     "output_type": "execute_result"
    },
    {
     "data": {
      "image/png": "[encoded data removed]",
      "text/plain": [
       "<Figure size 432x288 with 1 Axes>"
      ]
     },
     "metadata": {
      "needs_background": "light"
     },
     "output_type": "display_data"
    }
   ],
   "source": [
    "import matplotlib.pyplot as plt\n",
    "%matplotlib inline\n",
    "\n",
    "for lab, mark, col in zip(range(3), ('^', 's', 'o'), ('green', 'red', 'blue')):\n",
    "    plt.scatter(x = iris_X[:,0].real[iris_y == lab],\n",
    "               y = iris_X[:,1].real[iris_y == lab],\n",
    "               color = col)\n",
    "\n",
    "plt.title(\"Original Iris Daten\")\n",
    "plt.xlabel(\"Sepal-Länge [cm]\")\n",
    "plt.ylabel(\"Sepal-Breite [cm]\")"
   ]
  },
  {
   "cell_type": "code",
   "execution_count": 31,
   "id": "75415889",
   "metadata": {},
   "outputs": [
    {
     "data": {
      "text/plain": [
       "Text(0, 0.5, 'Sepal-Breite [cm]')"
      ]
     },
     "execution_count": 31,
     "metadata": {},
     "output_type": "execute_result"
    },
    {
     "data": {
      "image/png": "[encoded data removed]",
      "text/plain": [
       "<Figure size 432x288 with 1 Axes>"
      ]
     },
     "metadata": {
      "needs_background": "light"
     },
     "output_type": "display_data"
    }
   ],
   "source": [
    "import matplotlib.pyplot as plt\n",
    "%matplotlib inline\n",
    "\n",
    "for lab, mark, col in zip(range(3), ('^', 's', 'o'), ('green', 'red', 'blue')):\n",
    "    plt.scatter(x = iris_X_pca[:,0].real[iris_y == lab],\n",
    "               y = iris_X[:,1].real[iris_y == lab],\n",
    "               color = col)\n",
    "\n",
    "plt.title(\"Transformierte Iris Daten\")\n",
    "plt.xlabel(\"Sepal-Länge [cm]\")\n",
    "plt.ylabel(\"Sepal-Breite [cm]\")"
   ]
  },
  {
   "cell_type": "markdown",
   "id": "b25b0fc9",
   "metadata": {},
   "source": [
    "## Feature Auswahl"
   ]
  },
  {
   "cell_type": "code",
   "execution_count": 34,
   "id": "bcac3346",
   "metadata": {},
   "outputs": [],
   "source": [
    "from sklearn.feature_selection import SelectKBest\n",
    "from sklearn.feature_selection import chi2\n",
    "\n",
    "X = iris_X\n",
    "y = iris_y\n",
    "\n",
    "test = SelectKBest(score_func = chi2, k = 4)\n",
    "myFilter = test.fit(X, y)\n",
    "X_trans = myFilter.transform(X)"
   ]
  },
  {
   "cell_type": "code",
   "execution_count": 35,
   "id": "79684869",
   "metadata": {
    "scrolled": true
   },
   "outputs": [
    {
     "data": {
      "text/plain": [
       "array([[5.1, 3.5, 1.4, 0.2],\n",
       "       [4.9, 3. , 1.4, 0.2],\n",
       "       [4.7, 3.2, 1.3, 0.2],\n",
       "       [4.6, 3.1, 1.5, 0.2],\n",
       "       [5. , 3.6, 1.4, 0.2],\n",
       "       [5.4, 3.9, 1.7, 0.4],\n",
       "       [4.6, 3.4, 1.4, 0.3],\n",
       "       [5. , 3.4, 1.5, 0.2],\n",
       "       [4.4, 2.9, 1.4, 0.2],\n",
       "       [4.9, 3.1, 1.5, 0.1],\n",
       "       [5.4, 3.7, 1.5, 0.2],\n",
       "       [4.8, 3.4, 1.6, 0.2],\n",
       "       [4.8, 3. , 1.4, 0.1],\n",
       "       [4.3, 3. , 1.1, 0.1],\n",
       "       [5.8, 4. , 1.2, 0.2],\n",
       "       [5.7, 4.4, 1.5, 0.4],\n",
       "       [5.4, 3.9, 1.3, 0.4],\n",
       "       [5.1, 3.5, 1.4, 0.3],\n",
       "       [5.7, 3.8, 1.7, 0.3],\n",
       "       [5.1, 3.8, 1.5, 0.3],\n",
       "       [5.4, 3.4, 1.7, 0.2],\n",
       "       [5.1, 3.7, 1.5, 0.4],\n",
       "       [4.6, 3.6, 1. , 0.2],\n",
       "       [5.1, 3.3, 1.7, 0.5],\n",
       "       [4.8, 3.4, 1.9, 0.2],\n",
       "       [5. , 3. , 1.6, 0.2],\n",
       "       [5. , 3.4, 1.6, 0.4],\n",
       "       [5.2, 3.5, 1.5, 0.2],\n",
       "       [5.2, 3.4, 1.4, 0.2],\n",
       "       [4.7, 3.2, 1.6, 0.2],\n",
       "       [4.8, 3.1, 1.6, 0.2],\n",
       "       [5.4, 3.4, 1.5, 0.4],\n",
       "       [5.2, 4.1, 1.5, 0.1],\n",
       "       [5.5, 4.2, 1.4, 0.2],\n",
       "       [4.9, 3.1, 1.5, 0.2],\n",
       "       [5. , 3.2, 1.2, 0.2],\n",
       "       [5.5, 3.5, 1.3, 0.2],\n",
       "       [4.9, 3.6, 1.4, 0.1],\n",
       "       [4.4, 3. , 1.3, 0.2],\n",
       "       [5.1, 3.4, 1.5, 0.2],\n",
       "       [5. , 3.5, 1.3, 0.3],\n",
       "       [4.5, 2.3, 1.3, 0.3],\n",
       "       [4.4, 3.2, 1.3, 0.2],\n",
       "       [5. , 3.5, 1.6, 0.6],\n",
       "       [5.1, 3.8, 1.9, 0.4],\n",
       "       [4.8, 3. , 1.4, 0.3],\n",
       "       [5.1, 3.8, 1.6, 0.2],\n",
       "       [4.6, 3.2, 1.4, 0.2],\n",
       "       [5.3, 3.7, 1.5, 0.2],\n",
       "       [5. , 3.3, 1.4, 0.2],\n",
       "       [7. , 3.2, 4.7, 1.4],\n",
       "       [6.4, 3.2, 4.5, 1.5],\n",
       "       [6.9, 3.1, 4.9, 1.5],\n",
       "       [5.5, 2.3, 4. , 1.3],\n",
       "       [6.5, 2.8, 4.6, 1.5],\n",
       "       [5.7, 2.8, 4.5, 1.3],\n",
       "       [6.3, 3.3, 4.7, 1.6],\n",
       "       [4.9, 2.4, 3.3, 1. ],\n",
       "       [6.6, 2.9, 4.6, 1.3],\n",
       "       [5.2, 2.7, 3.9, 1.4],\n",
       "       [5. , 2. , 3.5, 1. ],\n",
       "       [5.9, 3. , 4.2, 1.5],\n",
       "       [6. , 2.2, 4. , 1. ],\n",
       "       [6.1, 2.9, 4.7, 1.4],\n",
       "       [5.6, 2.9, 3.6, 1.3],\n",
       "       [6.7, 3.1, 4.4, 1.4],\n",
       "       [5.6, 3. , 4.5, 1.5],\n",
       "       [5.8, 2.7, 4.1, 1. ],\n",
       "       [6.2, 2.2, 4.5, 1.5],\n",
       "       [5.6, 2.5, 3.9, 1.1],\n",
       "       [5.9, 3.2, 4.8, 1.8],\n",
       "       [6.1, 2.8, 4. , 1.3],\n",
       "       [6.3, 2.5, 4.9, 1.5],\n",
       "       [6.1, 2.8, 4.7, 1.2],\n",
       "       [6.4, 2.9, 4.3, 1.3],\n",
       "       [6.6, 3. , 4.4, 1.4],\n",
       "       [6.8, 2.8, 4.8, 1.4],\n",
       "       [6.7, 3. , 5. , 1.7],\n",
       "       [6. , 2.9, 4.5, 1.5],\n",
       "       [5.7, 2.6, 3.5, 1. ],\n",
       "       [5.5, 2.4, 3.8, 1.1],\n",
       "       [5.5, 2.4, 3.7, 1. ],\n",
       "       [5.8, 2.7, 3.9, 1.2],\n",
       "       [6. , 2.7, 5.1, 1.6],\n",
       "       [5.4, 3. , 4.5, 1.5],\n",
       "       [6. , 3.4, 4.5, 1.6],\n",
       "       [6.7, 3.1, 4.7, 1.5],\n",
       "       [6.3, 2.3, 4.4, 1.3],\n",
       "       [5.6, 3. , 4.1, 1.3],\n",
       "       [5.5, 2.5, 4. , 1.3],\n",
       "       [5.5, 2.6, 4.4, 1.2],\n",
       "       [6.1, 3. , 4.6, 1.4],\n",
       "       [5.8, 2.6, 4. , 1.2],\n",
       "       [5. , 2.3, 3.3, 1. ],\n",
       "       [5.6, 2.7, 4.2, 1.3],\n",
       "       [5.7, 3. , 4.2, 1.2],\n",
       "       [5.7, 2.9, 4.2, 1.3],\n",
       "       [6.2, 2.9, 4.3, 1.3],\n",
       "       [5.1, 2.5, 3. , 1.1],\n",
       "       [5.7, 2.8, 4.1, 1.3],\n",
       "       [6.3, 3.3, 6. , 2.5],\n",
       "       [5.8, 2.7, 5.1, 1.9],\n",
       "       [7.1, 3. , 5.9, 2.1],\n",
       "       [6.3, 2.9, 5.6, 1.8],\n",
       "       [6.5, 3. , 5.8, 2.2],\n",
       "       [7.6, 3. , 6.6, 2.1],\n",
       "       [4.9, 2.5, 4.5, 1.7],\n",
       "       [7.3, 2.9, 6.3, 1.8],\n",
       "       [6.7, 2.5, 5.8, 1.8],\n",
       "       [7.2, 3.6, 6.1, 2.5],\n",
       "       [6.5, 3.2, 5.1, 2. ],\n",
       "       [6.4, 2.7, 5.3, 1.9],\n",
       "       [6.8, 3. , 5.5, 2.1],\n",
       "       [5.7, 2.5, 5. , 2. ],\n",
       "       [5.8, 2.8, 5.1, 2.4],\n",
       "       [6.4, 3.2, 5.3, 2.3],\n",
       "       [6.5, 3. , 5.5, 1.8],\n",
       "       [7.7, 3.8, 6.7, 2.2],\n",
       "       [7.7, 2.6, 6.9, 2.3],\n",
       "       [6. , 2.2, 5. , 1.5],\n",
       "       [6.9, 3.2, 5.7, 2.3],\n",
       "       [5.6, 2.8, 4.9, 2. ],\n",
       "       [7.7, 2.8, 6.7, 2. ],\n",
       "       [6.3, 2.7, 4.9, 1.8],\n",
       "       [6.7, 3.3, 5.7, 2.1],\n",
       "       [7.2, 3.2, 6. , 1.8],\n",
       "       [6.2, 2.8, 4.8, 1.8],\n",
       "       [6.1, 3. , 4.9, 1.8],\n",
       "       [6.4, 2.8, 5.6, 2.1],\n",
       "       [7.2, 3. , 5.8, 1.6],\n",
       "       [7.4, 2.8, 6.1, 1.9],\n",
       "       [7.9, 3.8, 6.4, 2. ],\n",
       "       [6.4, 2.8, 5.6, 2.2],\n",
       "       [6.3, 2.8, 5.1, 1.5],\n",
       "       [6.1, 2.6, 5.6, 1.4],\n",
       "       [7.7, 3. , 6.1, 2.3],\n",
       "       [6.3, 3.4, 5.6, 2.4],\n",
       "       [6.4, 3.1, 5.5, 1.8],\n",
       "       [6. , 3. , 4.8, 1.8],\n",
       "       [6.9, 3.1, 5.4, 2.1],\n",
       "       [6.7, 3.1, 5.6, 2.4],\n",
       "       [6.9, 3.1, 5.1, 2.3],\n",
       "       [5.8, 2.7, 5.1, 1.9],\n",
       "       [6.8, 3.2, 5.9, 2.3],\n",
       "       [6.7, 3.3, 5.7, 2.5],\n",
       "       [6.7, 3. , 5.2, 2.3],\n",
       "       [6.3, 2.5, 5. , 1.9],\n",
       "       [6.5, 3. , 5.2, 2. ],\n",
       "       [6.2, 3.4, 5.4, 2.3],\n",
       "       [5.9, 3. , 5.1, 1.8]])"
      ]
     },
     "execution_count": 35,
     "metadata": {},
     "output_type": "execute_result"
    }
   ],
   "source": [
    "X_trans"
   ]
  },
  {
   "cell_type": "code",
   "execution_count": 42,
   "id": "f364700b",
   "metadata": {},
   "outputs": [
    {
     "name": "stderr",
     "output_type": "stream",
     "text": [
      "C:\\Users\\linus_05m2yty\\anaconda3\\envs\\Env_tensorflow\\lib\\site-packages\\sklearn\\linear_model\\_logistic.py:444: ConvergenceWarning: lbfgs failed to converge (status=1):\n",
      "STOP: TOTAL NO. of ITERATIONS REACHED LIMIT.\n",
      "\n",
      "Increase the number of iterations (max_iter) or scale the data as shown in:\n",
      "    https://scikit-learn.org/stable/modules/preprocessing.html\n",
      "Please also refer to the documentation for alternative solver options:\n",
      "    https://scikit-learn.org/stable/modules/linear_model.html#logistic-regression\n",
      "  n_iter_i = _check_optimize_result(\n"
     ]
    }
   ],
   "source": [
    "from sklearn.feature_selection import RFE\n",
    "from sklearn.linear_model import LogisticRegression\n",
    "\n",
    "myModel = LogisticRegression()\n",
    "rfe = RFE(myModel, n_features_to_select = 3)\n",
    "rfe = rfe.fit(X,y)"
   ]
  },
  {
   "cell_type": "code",
   "execution_count": null,
   "id": "44f39bb3",
   "metadata": {},
   "outputs": [],
   "source": []
  }
 ],
 "metadata": {
  "kernelspec": {
   "display_name": "Python 3 (ipykernel)",
   "language": "python",
   "name": "python3"
  },
  "language_info": {
   "codemirror_mode": {
    "name": "ipython",
    "version": 3
   },
   "file_extension": ".py",
   "mimetype": "text/x-python",
   "name": "python",
   "nbconvert_exporter": "python",
   "pygments_lexer": "ipython3",
   "version": "3.9.12"
  }
 },
 "nbformat": 4,
 "nbformat_minor": 5
}
